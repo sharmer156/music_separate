{
  "nbformat": 4,
  "nbformat_minor": 0,
  "metadata": {
    "colab": {
      "name": "Untitled9.ipynb",
      "provenance": [],
      "collapsed_sections": [],
      "authorship_tag": "ABX9TyNzLxx0apaM28PbDn3gVWsL",
      "include_colab_link": true
    },
    "kernelspec": {
      "name": "python3",
      "display_name": "Python 3"
    }
  },
  "cells": [
    {
      "cell_type": "markdown",
      "metadata": {
        "id": "view-in-github",
        "colab_type": "text"
      },
      "source": [
        "<a href=\"https://colab.research.google.com/github/sharmer156/music_separate/blob/master/results.ipynb\" target=\"_parent\"><img src=\"https://colab.research.google.com/assets/colab-badge.svg\" alt=\"Open In Colab\"/></a>"
      ]
    },
    {
      "cell_type": "markdown",
      "metadata": {
        "id": "bC3tKwYMAz_u",
        "colab_type": "text"
      },
      "source": [
        "# Install spleeter \n",
        "pip install"
      ]
    },
    {
      "cell_type": "code",
      "metadata": {
        "id": "fm8OQWBG_Tg-",
        "colab_type": "code",
        "colab": {}
      },
      "source": [
        "!apt install ffmpeg"
      ],
      "execution_count": 0,
      "outputs": []
    },
    {
      "cell_type": "code",
      "metadata": {
        "id": "i3TbiPWwAu9o",
        "colab_type": "code",
        "colab": {}
      },
      "source": [
        "pip install spleeter"
      ],
      "execution_count": 0,
      "outputs": []
    },
    {
      "cell_type": "code",
      "metadata": {
        "id": "iNCAUGFcAwuo",
        "colab_type": "code",
        "colab": {}
      },
      "source": [
        "from IPython.display import Audio"
      ],
      "execution_count": 0,
      "outputs": []
    },
    {
      "cell_type": "code",
      "metadata": {
        "id": "Jik5kF5YBFmu",
        "colab_type": "code",
        "colab": {}
      },
      "source": [
        "!spleeter separate -h  #spleeter set"
      ],
      "execution_count": 0,
      "outputs": []
    },
    {
      "cell_type": "markdown",
      "metadata": {
        "id": "4bYEMW_7BNBn",
        "colab_type": "text"
      },
      "source": [
        "# Separate from command line \n",
        "I mod to separate 2  vocals|accompaniment\n",
        "\n",
        "II mod to separate 4  vocals|bass|other|drums\n"
      ]
    },
    {
      "cell_type": "code",
      "metadata": {
        "id": "x8WGYfq7B21X",
        "colab_type": "code",
        "colab": {}
      },
      "source": [
        "!wget https://github.com/sharmer156/spleeter/tree/master/tests/120s.mp3 #ero this path just the html files not the mp3,note the length "
      ],
      "execution_count": 0,
      "outputs": []
    },
    {
      "cell_type": "code",
      "metadata": {
        "id": "PLwQyB3jGmRv",
        "colab_type": "code",
        "colab": {}
      },
      "source": [
        "!wget https://github.com/sharmer156/spleeter/raw/master/20ss.mp3  # the max length always to 10min"
      ],
      "execution_count": 0,
      "outputs": []
    },
    {
      "cell_type": "code",
      "metadata": {
        "id": "pYr6wTVWB8JW",
        "colab_type": "code",
        "colab": {}
      },
      "source": [
        "!spleeter separate -i 20ss.mp3 -o output/ #I mod to separate 2 "
      ],
      "execution_count": 0,
      "outputs": []
    },
    {
      "cell_type": "code",
      "metadata": {
        "id": "F0d2r1KOCS-Y",
        "colab_type": "code",
        "colab": {}
      },
      "source": [
        "Audio('20ss.mp3')"
      ],
      "execution_count": 0,
      "outputs": []
    },
    {
      "cell_type": "code",
      "metadata": {
        "id": "Cswa1u8hC1J5",
        "colab_type": "code",
        "colab": {}
      },
      "source": [
        "Audio('output/20ss/vocals.wav')"
      ],
      "execution_count": 0,
      "outputs": []
    },
    {
      "cell_type": "code",
      "metadata": {
        "id": "hCr0kcmFC4S3",
        "colab_type": "code",
        "colab": {}
      },
      "source": [
        "Audio('output/20ss/accompaniment.wav')"
      ],
      "execution_count": 0,
      "outputs": []
    },
    {
      "cell_type": "code",
      "metadata": {
        "id": "S4CNHKesCLTn",
        "colab_type": "code",
        "colab": {}
      },
      "source": [
        "!spleeter separate -i 20ss.mp3 -p spleeter:4stems -o output/ #II mod to separate 4 vocals|bass|other|drums"
      ],
      "execution_count": 0,
      "outputs": []
    },
    {
      "cell_type": "code",
      "metadata": {
        "id": "CAbACiZRC8a2",
        "colab_type": "code",
        "colab": {}
      },
      "source": [
        "Audio('output/20ss/vocals.wav')"
      ],
      "execution_count": 0,
      "outputs": []
    },
    {
      "cell_type": "code",
      "metadata": {
        "id": "f9CvwpxWDA0m",
        "colab_type": "code",
        "colab": {}
      },
      "source": [
        "Audio('output/20ss/bass.wav')"
      ],
      "execution_count": 0,
      "outputs": []
    },
    {
      "cell_type": "code",
      "metadata": {
        "id": "X8z0OvObDDW1",
        "colab_type": "code",
        "colab": {}
      },
      "source": [
        "Audio('output/20ss/other.wav')"
      ],
      "execution_count": 0,
      "outputs": []
    },
    {
      "cell_type": "code",
      "metadata": {
        "id": "18uHcRIKDFXg",
        "colab_type": "code",
        "colab": {}
      },
      "source": [
        "Audio('output/20ss/drums.wav')"
      ],
      "execution_count": 0,
      "outputs": []
    },
    {
      "cell_type": "code",
      "metadata": {
        "id": "evtyBO4DDIP-",
        "colab_type": "code",
        "colab": {}
      },
      "source": [
        "Audio('20ss.mp3')"
      ],
      "execution_count": 0,
      "outputs": []
    }
  ]
}